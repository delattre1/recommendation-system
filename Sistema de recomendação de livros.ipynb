{
 "cells": [
  {
   "cell_type": "code",
   "execution_count": 74,
   "metadata": {},
   "outputs": [],
   "source": [
    "import pandas as pd\n",
    "import numpy as np\n",
    "from sklearn.feature_extraction.text import CountVectorizer\n",
    "from sklearn.metrics.pairwise import cosine_similarity"
   ]
  },
  {
   "cell_type": "code",
   "execution_count": 75,
   "metadata": {},
   "outputs": [],
   "source": [
    "data = pd.read_csv(\"books.csv\", error_bad_lines=False,index_col=False)\n",
    "data.average_rating=pd.cut(data.average_rating, bins=20)\n",
    "#data.columns"
   ]
  },
  {
   "cell_type": "code",
   "execution_count": 76,
   "metadata": {
    "scrolled": true
   },
   "outputs": [],
   "source": [
    "#cria uma coluna contatenando os dados\n",
    "def combine(row):\n",
    "    try:\n",
    "        return row['authors']+\" \"+row[\"publisher\"]+\" \"+str(row[\"average_rating\"])\n",
    "    except: print('erro', row)\n",
    "        \n",
    "def getname(ida):\n",
    "    return data[data.index == int(ida)]['title'].values[0]\n",
    "\n",
    "def get_index(title):\n",
    "    return data[data.title == title].index.values[0]\n"
   ]
  },
  {
   "cell_type": "code",
   "execution_count": 93,
   "metadata": {},
   "outputs": [],
   "source": [
    "def recomenda(livro):\n",
    "    data['combined'] = data.apply(combine,axis=1)\n",
    "    \n",
    "    cv = CountVectorizer()\n",
    "    #transformar os dados da coluna criada em uma matriz \n",
    "    count_matrix = cv.fit_transform(data['combined'])\n",
    "    #calcular a distância entre os vetores \n",
    "    cos_sim = cosine_similarity(count_matrix)\n",
    "\n",
    "    #selecionar livro \n",
    "    index_livro = get_index(livro)\n",
    "\n",
    "    livros_similares = list(enumerate(cos_sim[index_livro]))\n",
    "    sorted_livros_s = sorted(livros_similares, key=lambda x:x[1],reverse=True)\n",
    "    \n",
    "    recomendados = []\n",
    "    \n",
    "    for book in sorted_livros_s:\n",
    "        try:\n",
    "            recomendados.append(getname(book[0]))\n",
    "        except:\n",
    "            print(\"Erro\\n\", book)\n",
    "            \n",
    "    return recomendados[:12]\n",
    "    "
   ]
  },
  {
   "cell_type": "code",
   "execution_count": 94,
   "metadata": {},
   "outputs": [],
   "source": [
    "a = (recomenda('Poems From The Hobbit'))\n",
    "b = (recomenda('Harry Potter and the Order of the Phoenix (Harry Potter  #5)'))"
   ]
  },
  {
   "cell_type": "code",
   "execution_count": 95,
   "metadata": {},
   "outputs": [
    {
     "name": "stdout",
     "output_type": "stream",
     "text": [
      "The Lord of the Rings (The Lord of the Rings  #1-3)\n",
      "The Fellowship of the Ring (The Lord of the Rings  #1)\n",
      "Poems From The Hobbit\n",
      "The Hobbit  or There and Back Again\n",
      "The Lord of the Rings Millennium Edition Boxed Set (The Lord of the Rings  #1-3)\n",
      "Morgoth's Ring (The History of Middle-Earth  #10)\n",
      "Sauron Defeated: The History of The Lord of the Rings  Part Four (The History of Middle-Earth  #9)\n",
      "The Lord of the Rings (The Lord of the Rings  #1-3)\n",
      "The Fellowship of the Ring (The Lord of the Rings  #1)\n",
      "The Return of the Shadow: The History of The Lord of the Rings  Part One (The History of Middle-Earth  #6)\n",
      "Pictures by J.R.R. Tolkien\n",
      "The Maps of Tolkien's Middle-earth\n"
     ]
    }
   ],
   "source": [
    "for i in a:\n",
    "    print(i)"
   ]
  },
  {
   "cell_type": "code",
   "execution_count": 96,
   "metadata": {},
   "outputs": [
    {
     "name": "stdout",
     "output_type": "stream",
     "text": [
      "Harry Potter and the Order of the Phoenix (Harry Potter  #5)\n",
      "Harry Potter and the Half-Blood Prince (Harry Potter  #6)\n",
      "Harry Potter and the Prisoner of Azkaban (Harry Potter  #3)\n",
      "Harry Potter and the Chamber of Secrets (Harry Potter  #2)\n",
      "Harry Potter Boxed Set  Books 1-5 (Harry Potter  #1-5)\n",
      "Harry Potter and the Chamber of Secrets (Harry Potter  #2)\n",
      "Harry Potter and the Sorcerer's Stone (Harry Potter  #1)\n",
      "The Siege (Guardians of Ga'Hoole  #4)\n",
      "Chasing The Falconers (On The Run  #1)\n",
      "The Rescue (Guardians of Ga'Hoole  #3)\n",
      "The Eternity Code (Artemis Fowl  #3)\n",
      "Harry Potter Collection (Harry Potter  #1-6)\n"
     ]
    }
   ],
   "source": [
    "for i in b:\n",
    "    print(i)"
   ]
  },
  {
   "cell_type": "code",
   "execution_count": null,
   "metadata": {},
   "outputs": [],
   "source": []
  },
  {
   "cell_type": "code",
   "execution_count": null,
   "metadata": {},
   "outputs": [],
   "source": []
  },
  {
   "cell_type": "code",
   "execution_count": null,
   "metadata": {},
   "outputs": [],
   "source": []
  },
  {
   "cell_type": "code",
   "execution_count": 88,
   "metadata": {},
   "outputs": [
    {
     "name": "stdout",
     "output_type": "stream",
     "text": [
      "Harry Potter and the Order of the Phoenix (Harry Potter  #5)\n",
      "Harry Potter and the Chamber of Secrets (Harry Potter  #2)\n",
      "Harry Potter and the Prisoner of Azkaban (Harry Potter  #3)\n",
      "Harry Potter Boxed Set  Books 1-5 (Harry Potter  #1-5)\n",
      "Unauthorized Harry Potter Book Seven News: \"Half-Blood Prince\" Analysis and Speculation\n",
      "Harry Potter Collection (Harry Potter  #1-6)\n",
      "The Ultimate Hitchhiker's Guide: Five Complete Novels and One Story (Hitchhiker's Guide to the Galaxy  #1-5)\n",
      "The Ultimate Hitchhiker's Guide to the Galaxy (Hitchhiker's Guide to the Galaxy  #1-5)\n",
      "The Hitchhiker's Guide to the Galaxy (Hitchhiker's Guide to the Galaxy  #1)\n",
      "The Hitchhiker's Guide to the Galaxy (Hitchhiker's Guide to the Galaxy  #1)\n",
      "The Ultimate Hitchhiker's Guide (Hitchhiker's Guide to the Galaxy  #1-5)\n",
      "A Short History of Nearly Everything\n",
      "Bill Bryson's African Diary\n",
      "Bryson's Dictionary of Troublesome Words: A Writer's Guide to Getting It Right\n",
      "In a Sunburned Country\n",
      "I'm a Stranger Here Myself: Notes on Returning to America After Twenty Years Away\n",
      "The Lost Continent: Travels in Small Town America\n",
      "Neither Here nor There: Travels in Europe\n",
      "Notes from a Small Island\n",
      "The Mother Tongue: English and How It Got That Way\n",
      "J.R.R. Tolkien 4-Book Boxed Set: The Hobbit and The Lord of the Rings\n",
      "The Lord of the Rings (The Lord of the Rings  #1-3)\n",
      "The Fellowship of the Ring (The Lord of the Rings  #1)\n",
      "The Lord of the Rings (The Lord of the Rings  #1-3)\n",
      "The Lord of the Rings: Weapons and Warfare\n"
     ]
    }
   ],
   "source": [
    "#titulos para testar\n",
    "for i in range(25):\n",
    "    print(getname(i+1))"
   ]
  },
  {
   "cell_type": "code",
   "execution_count": null,
   "metadata": {},
   "outputs": [],
   "source": []
  },
  {
   "cell_type": "code",
   "execution_count": null,
   "metadata": {},
   "outputs": [],
   "source": []
  },
  {
   "cell_type": "code",
   "execution_count": null,
   "metadata": {},
   "outputs": [],
   "source": []
  },
  {
   "cell_type": "code",
   "execution_count": null,
   "metadata": {},
   "outputs": [],
   "source": []
  }
 ],
 "metadata": {
  "kernelspec": {
   "display_name": "Python 3",
   "language": "python",
   "name": "python3"
  },
  "language_info": {
   "codemirror_mode": {
    "name": "ipython",
    "version": 3
   },
   "file_extension": ".py",
   "mimetype": "text/x-python",
   "name": "python",
   "nbconvert_exporter": "python",
   "pygments_lexer": "ipython3",
   "version": "3.8.3"
  }
 },
 "nbformat": 4,
 "nbformat_minor": 2
}
